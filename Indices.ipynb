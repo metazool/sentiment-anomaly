{
 "cells": [
  {
   "cell_type": "code",
   "execution_count": 1,
   "id": "different-ethics",
   "metadata": {},
   "outputs": [],
   "source": [
    "from datetime import datetime\n",
    "from matplotlib import pyplot as plt\n",
    "import pandas as pd\n",
    "from sentiment_anomaly.db import session, Comment"
   ]
  },
  {
   "cell_type": "code",
   "execution_count": 2,
   "id": "usual-bridal",
   "metadata": {},
   "outputs": [
    {
     "data": {
      "text/plain": [
       "295359"
      ]
     },
     "execution_count": 2,
     "metadata": {},
     "output_type": "execute_result"
    }
   ],
   "source": [
    "db = session()\n",
    "comments = db.query(Comment)\n",
    "comments.count()"
   ]
  },
  {
   "cell_type": "markdown",
   "id": "attached-script",
   "metadata": {},
   "source": [
    "## Swear Index\n",
    "\n",
    "This valuable sentiment metric tracks the ratio of reddit comments including the word _fuck_ to comments that don't, per comment-hour over time."
   ]
  },
  {
   "cell_type": "code",
   "execution_count": 3,
   "id": "another-stations",
   "metadata": {},
   "outputs": [
    {
     "data": {
      "text/plain": [
       "20843"
      ]
     },
     "execution_count": 3,
     "metadata": {},
     "output_type": "execute_result"
    }
   ],
   "source": [
    "fuck = \"%{}%\".format('fuck')\n",
    "from sqlalchemy import func\n",
    "swear_comments = db.query(Comment).filter(func.lower(Comment.body).like(fuck)).order_by(Comment.created_utc)\n",
    "all_comments = db.query(Comment).order_by(Comment.created_utc)\n",
    "swear_comments.count()"
   ]
  },
  {
   "cell_type": "code",
   "execution_count": 4,
   "id": "sound-matter",
   "metadata": {},
   "outputs": [],
   "source": [
    "def per_comment_hour(comments):\n",
    "    df = pd.DataFrame()\n",
    "    df['time'] = [datetime.fromtimestamp(post.created_utc) for post in comments]\n",
    "    df['hod'] = [\"{:4d}{:02d}{:02d}{:02d}\".format(r.year, r.month, r.day, r.hour) for r in df.time]\n",
    "    return pd.DataFrame(df.groupby('hod')[\"time\"].count())"
   ]
  },
  {
   "cell_type": "code",
   "execution_count": 5,
   "id": "seeing-punch",
   "metadata": {},
   "outputs": [
    {
     "data": {
      "text/html": [
       "<div>\n",
       "<style scoped>\n",
       "    .dataframe tbody tr th:only-of-type {\n",
       "        vertical-align: middle;\n",
       "    }\n",
       "\n",
       "    .dataframe tbody tr th {\n",
       "        vertical-align: top;\n",
       "    }\n",
       "\n",
       "    .dataframe thead th {\n",
       "        text-align: right;\n",
       "    }\n",
       "</style>\n",
       "<table border=\"1\" class=\"dataframe\">\n",
       "  <thead>\n",
       "    <tr style=\"text-align: right;\">\n",
       "      <th></th>\n",
       "      <th>time_x</th>\n",
       "      <th>time_y</th>\n",
       "      <th>swear_index</th>\n",
       "    </tr>\n",
       "    <tr>\n",
       "      <th>hod</th>\n",
       "      <th></th>\n",
       "      <th></th>\n",
       "      <th></th>\n",
       "    </tr>\n",
       "  </thead>\n",
       "  <tbody>\n",
       "    <tr>\n",
       "      <th>2021020609</th>\n",
       "      <td>1</td>\n",
       "      <td>28</td>\n",
       "      <td>0.037037</td>\n",
       "    </tr>\n",
       "    <tr>\n",
       "      <th>2021020610</th>\n",
       "      <td>16</td>\n",
       "      <td>156</td>\n",
       "      <td>0.114286</td>\n",
       "    </tr>\n",
       "    <tr>\n",
       "      <th>2021020611</th>\n",
       "      <td>19</td>\n",
       "      <td>197</td>\n",
       "      <td>0.106742</td>\n",
       "    </tr>\n",
       "    <tr>\n",
       "      <th>2021020612</th>\n",
       "      <td>26</td>\n",
       "      <td>247</td>\n",
       "      <td>0.117647</td>\n",
       "    </tr>\n",
       "    <tr>\n",
       "      <th>2021020613</th>\n",
       "      <td>38</td>\n",
       "      <td>445</td>\n",
       "      <td>0.093366</td>\n",
       "    </tr>\n",
       "  </tbody>\n",
       "</table>\n",
       "</div>"
      ],
      "text/plain": [
       "            time_x  time_y  swear_index\n",
       "hod                                    \n",
       "2021020609       1      28     0.037037\n",
       "2021020610      16     156     0.114286\n",
       "2021020611      19     197     0.106742\n",
       "2021020612      26     247     0.117647\n",
       "2021020613      38     445     0.093366"
      ]
     },
     "execution_count": 5,
     "metadata": {},
     "output_type": "execute_result"
    }
   ],
   "source": [
    "df_swear =  per_comment_hour(swear_comments)\n",
    "dfv = df_swear.merge(per_comment_hour(all_comments), how='left', on=['hod'])\n",
    "dfv['swear_index'] = dfv.time_x / (dfv.time_y - dfv.time_x)\n",
    "dfv.head()"
   ]
  },
  {
   "cell_type": "markdown",
   "id": "normal-survivor",
   "metadata": {},
   "source": [
    "Drop the first and last hour where sampling is partial"
   ]
  },
  {
   "cell_type": "code",
   "execution_count": 6,
   "id": "double-folder",
   "metadata": {},
   "outputs": [],
   "source": [
    "hour_index = dfv.index.tolist()\n",
    "dfv = dfv.drop([hour_index[0], hour_index[-1]])"
   ]
  },
  {
   "cell_type": "markdown",
   "id": "compound-marble",
   "metadata": {},
   "source": [
    "Plot the Swear Index"
   ]
  },
  {
   "cell_type": "code",
   "execution_count": 7,
   "id": "intensive-substance",
   "metadata": {},
   "outputs": [
    {
     "data": {
      "image/png": "[encoded data removed]",
      "text/plain": [
       "<Figure size 432x288 with 1 Axes>"
      ]
     },
     "metadata": {
      "needs_background": "light"
     },
     "output_type": "display_data"
    }
   ],
   "source": [
    "fig = plt.figure()\n",
    "ax = fig.add_subplot(111)\n",
    "ax.plot(dfv['swear_index'])\n",
    "plt.xticks(rotation='vertical', ticks=dfv.index.tolist()[::10])\n",
    "plt.show()"
   ]
  }
 ],
 "metadata": {
  "kernelspec": {
   "display_name": "Python 3",
   "language": "python",
   "name": "python3"
  },
  "language_info": {
   "codemirror_mode": {
    "name": "ipython",
    "version": 3
   },
   "file_extension": ".py",
   "mimetype": "text/x-python",
   "name": "python",
   "nbconvert_exporter": "python",
   "pygments_lexer": "ipython3",
   "version": "3.8.5"
  }
 },
 "nbformat": 4,
 "nbformat_minor": 5
}
